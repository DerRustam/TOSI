{
 "cells": [
  {
   "cell_type": "markdown",
   "metadata": {},
   "source": [
    "<span style=\"color:gray\">Интеллектуальный анализ данных в R и Python. Лекция 2</span>"
   ]
  },
  {
   "cell_type": "markdown",
   "metadata": {},
   "source": [
    "### 2.  Обучение с учителем. Модель логистической регрессии."
   ]
  },
  {
   "cell_type": "markdown",
   "metadata": {},
   "source": [
    "<font color='blue'>Логистическая регрессия</font> представляет собой линейную модель для решения задачи классификации с использованием логистической (сигмоидальной) функции, которая определяет вероятность принадлежности к определенному классу. Задача оптимизации заключается в следующем:\n",
    "$$\n",
    "\\underset{\\theta}{min\\,} \\sum_{i=1}^n \\log(\\exp(- y_i (X_i^T \\theta + c)) + 1) .\n",
    "$$"
   ]
  },
  {
   "cell_type": "markdown",
   "metadata": {},
   "source": [
    "Логистическая регрессия реализована в [`sklearn.linear_model.LogisticRegression`](http://scikit-learn.org/stable/modules/generated/sklearn.linear_model.LogisticRegression.html). Для более подробной информации [1.1.11. Logistic regression](http://scikit-learn.org/stable/modules/linear_model.html#logistic-regression) в документации scikit-learn.\n",
    "\n",
    "Метод [`sklearn.linear_model.LogisticRegression.predict_proba`](http://scikit-learn.org/stable/modules/generated/sklearn.linear_model.LogisticRegression.html#sklearn.linear_model.LogisticRegression.predict_proba) возвращает вероятность для каждого класса (от 0 до 1), тогда как метод [`sklearn.linear_model.LogisticRegression.decision_function`](http://scikit-learn.org/stable/modules/generated/sklearn.linear_model.LogisticRegression.html#sklearn.linear_model.LogisticRegression.decision_function) возвращает доверительный интервал (от -1 до 1).\n",
    "\n",
    "Воспользуемся функций [`sklearn.datasets.make_blobs`](http://scikit-learn.org/stable/modules/generated/sklearn.datasets.make_blobs.html) для генерации синтетических данных для классификации."
   ]
  },
  {
   "cell_type": "code",
   "execution_count": 58,
   "metadata": {},
   "outputs": [],
   "source": [
    "%matplotlib inline\n",
    "import matplotlib.pyplot as plt\n",
    "import numpy as np\n",
    "import pandas as pd\n",
    "\n",
    "from sklearn.linear_model import LogisticRegression\n",
    "from sklearn.model_selection import train_test_split \n",
    "from sklearn.datasets import make_blobs\n",
    "from sklearn.pipeline import Pipeline\n",
    "from sklearn.metrics import confusion_matrix, classification_report"
   ]
  },
  {
   "cell_type": "markdown",
   "metadata": {},
   "source": [
    "Создадим функцию для построения разделяющей гиперплоскости и визуализации результатов классификации calculate_decision_function()."
   ]
  },
  {
   "cell_type": "code",
   "execution_count": 59,
   "metadata": {},
   "outputs": [],
   "source": [
    "def calculate_decision_function(X,model):\n",
    "    '''\n",
    "    Create a 2D grid to evaluate model.\n",
    "    '''\n",
    "\n",
    "    xx = np.linspace(X[:, 0].min(), X[:, 0].max(), 30)\n",
    "    yy = np.linspace(X[:, 1].min(), X[:, 1].max(), 30)\n",
    "    YY, XX = np.meshgrid(yy, xx)\n",
    "    xy = np.vstack([XX.ravel(), YY.ravel()]).T\n",
    "    Z = model(xy).reshape(XX.shape)\n",
    "\n",
    "    return (XX,YY,Z)"
   ]
  },
  {
   "cell_type": "code",
   "execution_count": 60,
   "metadata": {},
   "outputs": [
    {
     "data": {
      "image/png": "[encoded data removed]",
      "text/plain": [
       "<Figure size 360x360 with 1 Axes>"
      ]
     },
     "metadata": {
      "needs_background": "light"
     },
     "output_type": "display_data"
    }
   ],
   "source": [
    "# генерируем выборку из 40 линейно разделимых наблюдений\n",
    "# с количеством классов \"centers\" и разбросом их значений \"cluster_std\" (рез. точность 0.75)\n",
    "#X, y = make_blobs(n_samples=40, centers=2, cluster_std=4.0, random_state=2)\n",
    "\n",
    "#пробуем уменьшить кол-во наблюдений\n",
    "#X, y = make_blobs(n_samples=25, centers=2, cluster_std=4.0, random_state=2)\n",
    "#пробуем увеличить кол-во наблюдений\n",
    "#X, y = make_blobs(n_samples=55, centers=2, cluster_std=4.0, random_state=2)\n",
    "#уменьшаем диапазон\n",
    "#X, y = make_blobs(n_samples=40, centers=2, cluster_std=2.5, random_state=2)\n",
    "#увеличиваем диапазон\n",
    "X, y = make_blobs(n_samples=40, centers=2, cluster_std=5.5, random_state=2)\n",
    "# разбиваем выборку на обучающую и тестовую\n",
    "X_train, X_test, y_train, y_test = train_test_split(X, y, test_size=0.33, random_state=42)\n",
    "\n",
    "# строим модель логистической регрессии\n",
    "model = Pipeline([('logistic', LogisticRegression())]) \n",
    "model.fit(X_train, y_train)\n",
    "\n",
    "# строим метрику для оценки качества модели\n",
    "accuracy_test = model.score(X_test,y_test) \n",
    "fig, ax = plt.subplots(1, 1, figsize=(5, 5))\n",
    "\n",
    "ax.scatter(X_train[:, 0], X_train[:, 1], c=y_train, s=10, cmap=plt.cm.Set2)\n",
    "ax.scatter(X_test[:, 0], X_test[:, 1], c=y_test, s=50, cmap=plt.cm.Set2)\n",
    "\n",
    "(XX,YY,Z) = calculate_decision_function(X, lambda x: model.predict_proba(x)[:,0])\n",
    "CS = ax.contour(XX, YY, Z, colors='k', levels=[0.3, 0.5, 0.7], alpha=0.5, linestyles=['--', '-', '--'])\n",
    "ax.clabel(CS, fontsize=9, inline=1)\n",
    "ax.set(title='Вероятность принадлежности к классу, точность классификации на тестовой выборке = ' + '{0:.2f}'.format(accuracy_test))\n",
    "\n",
    "plt.show();"
   ]
  },
  {
   "cell_type": "markdown",
   "metadata": {},
   "source": [
    "Качество классификации оценивается с помощью <font color='blue'>матрицы неточностей</font> (confusion matrix)"
   ]
  },
  {
   "cell_type": "markdown",
   "metadata": {},
   "source": [
    "\n",
    "\\begin{array}{rr} \\hline\n",
    "& & & \\color{blue}{\\text{Прогноз класса}} \\\\ \n",
    "& & \\color{green}{\\text{positives}} & \\color{green}{\\text{negatives}} \\\\ \n",
    "\\color{blue}{\\text{Истинный}} & \\color{green}{\\text{positives}} & TP & FN \\\\ \n",
    "\\color{blue}{\\text{класс}} & \\color{green}{\\text{negatives}} & FP & TN \\\\ \\hline\n",
    "\\end{array}"
   ]
  },
  {
   "cell_type": "markdown",
   "metadata": {},
   "source": [
    "которая реализована в [`sklearn.metrics.confusion_matrix`](http://scikit-learn.org/stable/modules/generated/sklearn.metrics.confusion_matrix.html)."
   ]
  },
  {
   "cell_type": "code",
   "execution_count": 61,
   "metadata": {},
   "outputs": [
    {
     "name": "stdout",
     "output_type": "stream",
     "text": [
      "[[7 2]\n",
      " [2 3]]\n"
     ]
    }
   ],
   "source": [
    "print(confusion_matrix(y_test, model.predict(X_test)))"
   ]
  },
  {
   "cell_type": "markdown",
   "metadata": {},
   "source": [
    "Альтернативным вариантом является функция Pandas [`pandas.crosstab`](https://pandas.pydata.org/pandas-docs/stable/generated/pandas.crosstab.html)."
   ]
  },
  {
   "cell_type": "code",
   "execution_count": 62,
   "metadata": {},
   "outputs": [
    {
     "data": {
      "text/html": [
       "<div>\n",
       "<style scoped>\n",
       "    .dataframe tbody tr th:only-of-type {\n",
       "        vertical-align: middle;\n",
       "    }\n",
       "\n",
       "    .dataframe tbody tr th {\n",
       "        vertical-align: top;\n",
       "    }\n",
       "\n",
       "    .dataframe thead th {\n",
       "        text-align: right;\n",
       "    }\n",
       "</style>\n",
       "<table border=\"1\" class=\"dataframe\">\n",
       "  <thead>\n",
       "    <tr style=\"text-align: right;\">\n",
       "      <th>Прогноз класса</th>\n",
       "      <th>0</th>\n",
       "      <th>1</th>\n",
       "      <th>All</th>\n",
       "    </tr>\n",
       "    <tr>\n",
       "      <th>Истинный класс</th>\n",
       "      <th></th>\n",
       "      <th></th>\n",
       "      <th></th>\n",
       "    </tr>\n",
       "  </thead>\n",
       "  <tbody>\n",
       "    <tr>\n",
       "      <th>0</th>\n",
       "      <td>7</td>\n",
       "      <td>2</td>\n",
       "      <td>9</td>\n",
       "    </tr>\n",
       "    <tr>\n",
       "      <th>1</th>\n",
       "      <td>2</td>\n",
       "      <td>3</td>\n",
       "      <td>5</td>\n",
       "    </tr>\n",
       "    <tr>\n",
       "      <th>All</th>\n",
       "      <td>9</td>\n",
       "      <td>5</td>\n",
       "      <td>14</td>\n",
       "    </tr>\n",
       "  </tbody>\n",
       "</table>\n",
       "</div>"
      ],
      "text/plain": [
       "Прогноз класса  0  1  All\n",
       "Истинный класс           \n",
       "0               7  2    9\n",
       "1               2  3    5\n",
       "All             9  5   14"
      ]
     },
     "execution_count": 62,
     "metadata": {},
     "output_type": "execute_result"
    }
   ],
   "source": [
    "pd.crosstab(pd.Series(y_test,name='Истинный класс'), \n",
    "            pd.Series(model.predict(X_test),name='Прогноз класса'),\n",
    "            margins=True)"
   ]
  },
  {
   "cell_type": "markdown",
   "metadata": {},
   "source": [
    "Показатели оценки качества модели могут быть получены с помощью функции [`sklearn.metrics.classification_report`](http://scikit-learn.org/stable/modules/generated/sklearn.metrics.classification_report.html). "
   ]
  },
  {
   "cell_type": "code",
   "execution_count": 63,
   "metadata": {},
   "outputs": [
    {
     "name": "stdout",
     "output_type": "stream",
     "text": [
      "              precision    recall  f1-score   support\n",
      "\n",
      "           0       0.78      0.78      0.78         9\n",
      "           1       0.60      0.60      0.60         5\n",
      "\n",
      "    accuracy                           0.71        14\n",
      "   macro avg       0.69      0.69      0.69        14\n",
      "weighted avg       0.71      0.71      0.71        14\n",
      "\n"
     ]
    }
   ],
   "source": [
    "print(classification_report(y_test, model.predict(X_test)))"
   ]
  },
  {
   "cell_type": "markdown",
   "metadata": {},
   "source": [
    "Метрики точности (precision), полноты (recall) и $F_1$ меры определяются как:\n",
    "\n",
    "$$\n",
    "\\text{precision} = \\frac{TP}{TP + FP}\n",
    "$$\n",
    "\n",
    "$$\n",
    "\\text{recall} = \\frac{TP}{TP + FN}\n",
    "$$\n",
    "\n",
    "$$\n",
    "F_1 = 2 \\frac{\\text{precision} \\times \\text{recall}}{\\text{precision} + \\text{recall}}\n",
    "$$\n",
    "\n",
    "где TP - количество истинных положительных примеров (true positives), TN - количество истинных отрицательных примеров (false positives), FP - количество ложных положительных примеров (false positives), FN - количество ложных отрицательных примеров (false negatives). Более подробная информация приведена по ссылке [3.3.2.8. Precision, recall and F-measures](http://scikit-learn.org/stable/modules/model_evaluation.html#precision-recall-and-f-measures) в документации scikit-learn."
   ]
  },
  {
   "cell_type": "markdown",
   "metadata": {},
   "source": [
    "<font color='green'>Задание для самостоятельной работы:</font>\n",
    "\n",
    "1. Построить модель логистической регрессии на сгенерированном наборе данных, запуская ячейки в данном Jupyter Notebook и меняя значения параметров модели и метрик. \n",
    "1. Создать ячейку и написать пояснение, как количество наблюдений n_samples и разброс значений cluster_std влияет на качество бинарной классификации (centers=2). \n",
    "1. Загрузить результирующий .ipynb файл в папку /assignments/. Файлы должны именоваться как:<br>\n",
    "   *'Lecture_2_' + surname*."
   ]
  },
  {
   "cell_type": "markdown",
   "metadata": {},
   "source": [
    "#### Влияние от кол-ва наблюдений  \n",
    "Точность уменьшается при увеличении n_samples\n",
    "\n",
    "#### Влияние от диапазона значений\n",
    "Точность уменьшается при увеличении разброса cluster_std\n"
   ]
  },
  {
   "cell_type": "code",
   "execution_count": null,
   "metadata": {},
   "outputs": [],
   "source": []
  }
 ],
 "metadata": {
  "kernelspec": {
   "display_name": "Python 3",
   "language": "python",
   "name": "python3"
  },
  "language_info": {
   "codemirror_mode": {
    "name": "ipython",
    "version": 3
   },
   "file_extension": ".py",
   "mimetype": "text/x-python",
   "name": "python",
   "nbconvert_exporter": "python",
   "pygments_lexer": "ipython3",
   "version": "3.7.3"
  }
 },
 "nbformat": 4,
 "nbformat_minor": 4
}
