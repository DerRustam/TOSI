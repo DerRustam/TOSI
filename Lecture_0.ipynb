{
 "cells": [
  {
   "cell_type": "markdown",
   "metadata": {},
   "source": [
    "<span style=\"color:gray\">Интеллектуальный анализ данных в R и Python. Лекция 0</span>"
   ]
  },
  {
   "cell_type": "markdown",
   "metadata": {},
   "source": [
    "### 1. Основные понятия и определения"
   ]
  },
  {
   "cell_type": "markdown",
   "metadata": {},
   "source": [
    "**Искусственный интеллект** (Artificial Intelligence, AI) - это область знаний, которая изучает принципы создания интеллектуальных систем, способных:\n",
    "\n",
    "1. Корректно интерпретировать внешние данные;\n",
    "1. Выявлять в них взаимосвязи и получать новые знания;\n",
    "1. Решать поставленную задачу с помощью полученных знаний и адаптивной подстройки к изменениям внешних данных. "
   ]
  },
  {
   "cell_type": "markdown",
   "metadata": {},
   "source": [
    "**Машинное обучение** (Machine Learning, ML) является подобластью искусственного интеллекта, которая изучает способность системы обучаться на основе полученных данных без явного программирования последовательности действий.\n",
    "\n",
    "\n"
   ]
  },
  {
   "cell_type": "markdown",
   "metadata": {},
   "source": [
    "**Глубокое обучение** (Deep Learning, DL) - подобласть машинного обучения, изучающая способность систем искусственного интеллекта обучаться на больших данных.\n"
   ]
  },
  {
   "cell_type": "markdown",
   "metadata": {},
   "source": [
    "**Большие данные** (Big data) – информация, объемы и формат хранения которой затрудняют ее обработку традиционными способами, а также набор подходов и методов, разработанных для ее анализа. Большие данные часто описывают тремя характеристиками: объем, скорость (прироста и требуемой обработки) и многообразие (различные типы данных).\n",
    "\n",
    "VOLUME, VELOCITY, VARIETY – принципы, на которых строится работа с большими данными, где<br> \n",
    "<font color='blue'>VOLUME</font> - объем информации, \n",
    "<font color='blue'>VELOCITY</font> - быстродействие ее обработки, \n",
    "<font color='blue'>VARIETY</font> - разнообразие сведений, хранящихся в массиве.\n",
    "В последнее время к трем базовым принципам стали добавлять еще один \n",
    "<font color='blue'>VALUE</font> - ценность информации.\n",
    "То есть, она должна быть полезной и нужной в теоретическом или практическом плане, что оправдывало бы затраты на ее хранение и обработку."
   ]
  },
  {
   "cell_type": "markdown",
   "metadata": {},
   "source": [
    "<img src=\"AI-ML-DL.PNG\" width=\"500\">\n"
   ]
  },
  {
   "cell_type": "markdown",
   "metadata": {},
   "source": [
    "***"
   ]
  },
  {
   "cell_type": "markdown",
   "metadata": {},
   "source": [
    "Ниже представлены основные направления и задачи **МАШИННОГО ОБУЧЕНИЯ**:"
   ]
  },
  {
   "cell_type": "markdown",
   "metadata": {},
   "source": [
    "<img src=\"ML_alg.PNG\" width=\"800\">"
   ]
  },
  {
   "cell_type": "markdown",
   "metadata": {},
   "source": [
    "Направление I. <font color='blue'>Обучение с учителем</font> (Supervised Learning):\n",
    "* Классификация (Classification)\n",
    "  * Обнаружение мошенничества с идентификацией (Identity Fraud Detection)\n",
    "  * Классификация изображений (Image Classification)\n",
    "  * Удержание клинетской базы (Customer Retention)\n",
    "* Регрессия (Regression)\n",
    "  * Прогнозирование популярности рекламы (Advertising Popularity Prediction)\n",
    "  * Прогнозирование погоды (Weather Forecasting)\n",
    "  * Прогногнозирование рынка (Market Forecasting)\n",
    "  * Оценивание продолжительности жизни (Estimating Life Expectancy)\n",
    "  * Прогногнозирование роста популяции (Population Growth Prediction)"
   ]
  },
  {
   "cell_type": "markdown",
   "metadata": {},
   "source": [
    "Направление II. <font color='blue'>Обучение без учителя</font> (Unsupervised Learning):\n",
    "* Понижение размерности (Dimentionality Reduction)\n",
    "  * Визуализация больших данных (Big Data Visualization)\n",
    "  * Информативное сжатие (Meaningful Compression)\n",
    "  * Обнаружение структуры (Structure Discovery)\n",
    "  * Выявление признаков (Feature Elicitation/Extraction)\n",
    "* Кластеризация (Clustering)\n",
    "  * Рекомендательные системы (Recommender Systems)\n",
    "  * Целевой маркетинг (Targeted Marketing)\n",
    "  * Сегментация клиентов (Customer Segmentation)"
   ]
  },
  {
   "cell_type": "markdown",
   "metadata": {},
   "source": [
    "Направление III. <font color='blue'>Обучение с подкреплением</font> (Reinforcement Learning):\n",
    "* Принятие решений в режиме реального времени (Real-time decisions)\n",
    "* Навигация роботов (Robot Navigation)\n",
    "* Формирование обучающих заданий (Learning Tasks)\n",
    "* Приобретение навыков (Skill Acquisition)\n",
    "* Игровой искусственный интеллект (Game AI)"
   ]
  },
  {
   "cell_type": "markdown",
   "metadata": {},
   "source": [
    "<font color='green'>Задание для самостоятельной работы:</font>\n",
    "\n",
    "1. Выбрать одно из трех направлений.\n",
    "1. Ознакомиться с предметной областью и результатми применения  машинного обучения для двух задач из приведенного списка.  \n",
    "1. Дополнить список двумя задачами, которые не представлены в описании.\n",
    "1. Загрузить текстовый файл со списком в папку /assignments/. Файл .txt должен именоваться как:<br>\n",
    "   *'Lecture_0_' + surname*."
   ]
  },
  {
   "cell_type": "code",
   "execution_count": null,
   "metadata": {},
   "outputs": [],
   "source": []
  }
 ],
 "metadata": {
  "kernelspec": {
   "display_name": "Python 3",
   "language": "python",
   "name": "python3"
  },
  "language_info": {
   "codemirror_mode": {
    "name": "ipython",
    "version": 3
   },
   "file_extension": ".py",
   "mimetype": "text/x-python",
   "name": "python",
   "nbconvert_exporter": "python",
   "pygments_lexer": "ipython3",
   "version": "3.7.3"
  }
 },
 "nbformat": 4,
 "nbformat_minor": 4
}
