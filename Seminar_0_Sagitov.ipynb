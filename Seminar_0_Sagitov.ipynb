{
 "cells": [
  {
   "cell_type": "markdown",
   "metadata": {},
   "source": [
    "**That's how bold looks like**\n",
    "\n",
    "__How also bold looks like__\n",
    "\n",
    "*That's how italic looks like*\n",
    "\n",
    "_How also italic looks like_"
   ]
  },
  {
   "cell_type": "markdown",
   "metadata": {},
   "source": [
    "First level header: An onion\n",
    "====================\n",
    "Second level header: An apple\n",
    "---------------------------------------\n",
    "### Third level header: An pinnacle\n",
    "#### Fourth level header: An strawberry"
   ]
  },
  {
   "cell_type": "markdown",
   "metadata": {},
   "source": [
    "**Line ends with 2+ spaces:**    \n",
    "First string  \n",
    "Second one"
   ]
  },
  {
   "cell_type": "markdown",
   "metadata": {},
   "source": [
    "There is a list:\n",
    "+ i1\n",
    "+ i2\n",
    "+ i3\n",
    "    * j1\n",
    "    * j2\n",
    "    \n",
    "How ordered items looks like:\n",
    "1. i1\n",
    "2. i2\n",
    "3. i3  "
   ]
  },
  {
   "cell_type": "markdown",
   "metadata": {},
   "source": [
    "Image:\n",
    "![jupyter](https://i1.wp.com/learn.onemonth.com/wp-content/uploads/2019/07/image3-1.png?fit=756%2C277&ssl=1) "
   ]
  },
  {
   "cell_type": "markdown",
   "metadata": {},
   "source": [
    "[Reference style link][1]\n",
    "Image with reference: \n",
    "![alt text][logo]\n",
    "\n",
    "[logo]: https://upload.wikimedia.org/wikipedia/commons/thumb/3/38/Jupyter_logo.svg/250px-Jupyter_logo.svg.png \"Jupiter logo\"\n",
    "\n",
    "\n",
    "[1]: https://jupyter.org/"
   ]
  },
  {
   "cell_type": "markdown",
   "metadata": {},
   "source": [
    "Literaly nobody:\n",
    "    > \"Do ya know about zero-day\""
   ]
  },
  {
   "cell_type": "markdown",
   "metadata": {},
   "source": [
    "<sup>Superscript<sup>\n",
    "<sub>Subscript<sub>\n",
    "\n",
    "\n",
    "~~Actually nobody~~"
   ]
  },
  {
   "cell_type": "markdown",
   "metadata": {},
   "source": [
    "R code form:\n",
    "```{r}\n",
    "match(x, table, nomatch = 0) > 0\n",
    "x %in% table\n",
    "```"
   ]
  },
  {
   "cell_type": "markdown",
   "metadata": {},
   "source": [
    "verbatim / preformatted code form:\n",
    "```\n",
    "public static void main(String[] args) {\n",
    "        int first = 10;\n",
    "        int second = 20;\n",
    "        int sum = first + second;\n",
    "        \n",
    "        System.out.println(\"The sum is: \" + sum);\n",
    "    }\n",
    "```"
   ]
  },
  {
   "cell_type": "markdown",
   "metadata": {},
   "source": [
    "Pifagor theory: \n",
    "$c^2 = a^2 + b^2$"
   ]
  },
  {
   "cell_type": "markdown",
   "metadata": {},
   "source": [
    "Display f: \n",
    "$$c^2 = a^2 + b^2$$"
   ]
  },
  {
   "cell_type": "markdown",
   "metadata": {},
   "source": [
    "*Table*  \n",
    "\n",
    "First Header | Second Header\n",
    "------------ | -------------\n",
    "(1,1) | (1,2)\n",
    "(2,1) | (2,2)  "
   ]
  },
  {
   "cell_type": "code",
   "execution_count": null,
   "metadata": {},
   "outputs": [],
   "source": []
  },
  {
   "cell_type": "code",
   "execution_count": null,
   "metadata": {},
   "outputs": [],
   "source": []
  }
 ],
 "metadata": {
  "kernelspec": {
   "display_name": "Python 3",
   "language": "python",
   "name": "python3"
  },
  "language_info": {
   "codemirror_mode": {
    "name": "ipython",
    "version": 3
   },
   "file_extension": ".py",
   "mimetype": "text/x-python",
   "name": "python",
   "nbconvert_exporter": "python",
   "pygments_lexer": "ipython3",
   "version": "3.7.3"
  }
 },
 "nbformat": 4,
 "nbformat_minor": 4
}
